{
 "cells": [
  {
   "cell_type": "markdown",
   "id": "36415273-441e-4a34-9d64-92de4113489e",
   "metadata": {},
   "source": [
    "# E-commerce Data Population\n",
    "\n",
    "This notebook script populates PostgreSQL tables with realistic, randomly generated e-commerce data using Python.\n",
    "\n",
    "**Key points:**\n",
    "\n",
    "- Uses a `.env` file to securely load DB credentials via `python-dotenv` — keeps secrets out of code.\n",
    "- Uses `executemany()` for batch inserts, making data loading efficient by minimizing DB calls.\n",
    "- Closes database cursors explicitly after each operation to prevent resource leaks and maintain stable DB connections.\n",
    "- Generates data with `Faker` for realistic testing of queries, indexing, and optimizations.\n",
    "\n",
    "The tables filled are: `customers`, `products`, `orders`, and `order_details`."
   ]
  },
  {
   "cell_type": "code",
   "execution_count": 45,
   "id": "b8f92647-4bd9-4adb-bcbd-6eea0f968fb6",
   "metadata": {},
   "outputs": [],
   "source": [
    "# Load environment variables from .env file and establish connection to PostgreSQL database.\n",
    "# This keeps sensitive info like passwords out of the code.\n",
    "from dotenv import load_dotenv\n",
    "import os\n",
    "import psycopg2"
   ]
  },
  {
   "cell_type": "code",
   "execution_count": 11,
   "id": "bf69f773-e09c-48bf-8bcf-c5fcac37e6f3",
   "metadata": {
    "scrolled": true
   },
   "outputs": [
    {
     "name": "stdout",
     "output_type": "stream",
     "text": [
      "Connected successfully.\n"
     ]
    }
   ],
   "source": [
    "from dotenv import load_dotenv\n",
    "import os\n",
    "import psycopg2\n",
    "\n",
    "# Load .env file\n",
    "load_dotenv()\n",
    "\n",
    "# Access values\n",
    "host = os.getenv(\"DB_HOST\")\n",
    "dbname = os.getenv(\"DB_NAME\")\n",
    "user = os.getenv(\"DB_USER\")\n",
    "password = os.getenv(\"DB_PASSWORD\")\n",
    "port = os.getenv(\"DB_PORT\")\n",
    "\n",
    "# Connect to PostgreSQL\n",
    "conn = psycopg2.connect(\n",
    "    host=host,\n",
    "    database=dbname,\n",
    "    user=user,\n",
    "    password=password,\n",
    "    port=port\n",
    ")\n",
    "\n",
    "print(\"Connected successfully.\")"
   ]
  },
  {
   "cell_type": "code",
   "execution_count": 49,
   "id": "a8c4712a-87d4-4b1d-8c5c-5949d57c1db2",
   "metadata": {},
   "outputs": [],
   "source": [
    "from faker import Faker\n",
    "import random"
   ]
  },
  {
   "cell_type": "code",
   "execution_count": 51,
   "id": "77537397-85fe-416b-ab89-f6baf905aada",
   "metadata": {},
   "outputs": [
    {
     "ename": "UniqueViolation",
     "evalue": "duplicate key value violates unique constraint \"customers_pkey\"\nDETAIL:  Key (id)=(1) already exists.\n",
     "output_type": "error",
     "traceback": [
      "\u001b[31m---------------------------------------------------------------------------\u001b[39m",
      "\u001b[31mUniqueViolation\u001b[39m                           Traceback (most recent call last)",
      "\u001b[36mCell\u001b[39m\u001b[36m \u001b[39m\u001b[32mIn[51]\u001b[39m\u001b[32m, line 20\u001b[39m\n\u001b[32m     16\u001b[39m     \u001b[38;5;28;01mif\u001b[39;00m phone \u001b[38;5;129;01mis\u001b[39;00m \u001b[38;5;28;01mNone\u001b[39;00m \u001b[38;5;129;01mand\u001b[39;00m email \u001b[38;5;129;01mis\u001b[39;00m \u001b[38;5;28;01mNone\u001b[39;00m:\n\u001b[32m     17\u001b[39m         \u001b[38;5;66;03m# If both are None, assign email randomly\u001b[39;00m\n\u001b[32m     18\u001b[39m         email = fake.email()\n\u001b[32m---> \u001b[39m\u001b[32m20\u001b[39m     \u001b[43mcur\u001b[49m\u001b[43m.\u001b[49m\u001b[43mexecute\u001b[49m\u001b[43m(\u001b[49m\n\u001b[32m     21\u001b[39m \u001b[38;5;250;43m        \u001b[39;49m\u001b[33;43;03m\"\"\"\u001b[39;49;00m\n\u001b[32m     22\u001b[39m \u001b[33;43;03m        INSERT INTO \"myEcommerceData\".customers\u001b[39;49;00m\n\u001b[32m     23\u001b[39m \u001b[33;43;03m        (id, First_name, Last_name, Age, Address, Phone_Number, Email_Address)\u001b[39;49;00m\n\u001b[32m     24\u001b[39m \u001b[33;43;03m        VALUES (%s, %s, %s, %s, %s, %s, %s)\u001b[39;49;00m\n\u001b[32m     25\u001b[39m \u001b[33;43;03m        \"\"\"\u001b[39;49;00m\u001b[43m,\u001b[49m\n\u001b[32m     26\u001b[39m \u001b[43m        \u001b[49m\u001b[43m(\u001b[49m\u001b[43mi\u001b[49m\u001b[43m+\u001b[49m\u001b[32;43m1\u001b[39;49m\u001b[43m,\u001b[49m\u001b[43m \u001b[49m\u001b[43mfirst_name\u001b[49m\u001b[43m,\u001b[49m\u001b[43m \u001b[49m\u001b[43mlast_name\u001b[49m\u001b[43m,\u001b[49m\u001b[43m \u001b[49m\u001b[43mage\u001b[49m\u001b[43m,\u001b[49m\u001b[43m \u001b[49m\u001b[43maddress\u001b[49m\u001b[43m,\u001b[49m\u001b[43m \u001b[49m\u001b[43mphone\u001b[49m\u001b[43m,\u001b[49m\u001b[43m \u001b[49m\u001b[43memail\u001b[49m\u001b[43m)\u001b[49m\n\u001b[32m     27\u001b[39m \u001b[43m    \u001b[49m\u001b[43m)\u001b[49m\n\u001b[32m     29\u001b[39m conn.commit()\n\u001b[32m     30\u001b[39m cur.close()\n",
      "\u001b[31mUniqueViolation\u001b[39m: duplicate key value violates unique constraint \"customers_pkey\"\nDETAIL:  Key (id)=(1) already exists.\n"
     ]
    }
   ],
   "source": [
    "cur = conn.cursor()\n",
    "\n",
    "fake = Faker()\n",
    "\n",
    "for i in range(10000):\n",
    "    first_name = fake.first_name()\n",
    "    last_name = fake.last_name()\n",
    "    age = random.randint(18, 80)\n",
    "    address = fake.address().replace(\"\\n\", \", \")\n",
    "\n",
    "    # Randomly decide whether to have phone or email or both\n",
    "    phone = fake.phone_number()[:20]  if random.choice([True, False]) else None\n",
    "    email = fake.email()[:50] if random.choice([True, False]) else None\n",
    "\n",
    "    # Ensure at least one is NOT NULL\n",
    "    if phone is None and email is None:\n",
    "        # If both are None, assign email randomly\n",
    "        email = fake.email()\n",
    "\n",
    "    cur.execute(\n",
    "        \"\"\"\n",
    "        INSERT INTO \"myEcommerceData\".customers\n",
    "        (id, First_name, Last_name, Age, Address, Phone_Number, Email_Address)\n",
    "        VALUES (%s, %s, %s, %s, %s, %s, %s)\n",
    "        \"\"\",\n",
    "        (i+1, first_name, last_name, age, address, phone, email)\n",
    "    )\n",
    "\n",
    "conn.commit()\n",
    "cur.close()\n",
    "print(\"Inserted 10,000 customers with either phone or email or both!\")"
   ]
  },
  {
   "cell_type": "code",
   "execution_count": 53,
   "id": "521dd1ac-a8da-464e-9e86-d74000d73811",
   "metadata": {},
   "outputs": [
    {
     "ename": "InFailedSqlTransaction",
     "evalue": "current transaction is aborted, commands ignored until end of transaction block\n",
     "output_type": "error",
     "traceback": [
      "\u001b[31m---------------------------------------------------------------------------\u001b[39m",
      "\u001b[31mInFailedSqlTransaction\u001b[39m                    Traceback (most recent call last)",
      "\u001b[36mCell\u001b[39m\u001b[36m \u001b[39m\u001b[32mIn[53]\u001b[39m\u001b[32m, line 7\u001b[39m\n\u001b[32m      4\u001b[39m     product_name = fake.word().capitalize()  \u001b[38;5;66;03m# Simple product names\u001b[39;00m\n\u001b[32m      5\u001b[39m     price = \u001b[38;5;28mround\u001b[39m(random.uniform(\u001b[32m1.00\u001b[39m, \u001b[32m1000.00\u001b[39m), \u001b[32m2\u001b[39m)  \u001b[38;5;66;03m# Price between 1 and 1000\u001b[39;00m\n\u001b[32m----> \u001b[39m\u001b[32m7\u001b[39m     \u001b[43mcur\u001b[49m\u001b[43m.\u001b[49m\u001b[43mexecute\u001b[49m\u001b[43m(\u001b[49m\n\u001b[32m      8\u001b[39m \u001b[38;5;250;43m        \u001b[39;49m\u001b[33;43;03m\"\"\"\u001b[39;49;00m\n\u001b[32m      9\u001b[39m \u001b[33;43;03m        INSERT INTO \"myEcommerceData\".products (product_name, price)\u001b[39;49;00m\n\u001b[32m     10\u001b[39m \u001b[33;43;03m        VALUES (%s, %s)\u001b[39;49;00m\n\u001b[32m     11\u001b[39m \u001b[33;43;03m        \"\"\"\u001b[39;49;00m\u001b[43m,\u001b[49m\n\u001b[32m     12\u001b[39m \u001b[43m        \u001b[49m\u001b[43m(\u001b[49m\u001b[43mproduct_name\u001b[49m\u001b[43m,\u001b[49m\u001b[43m \u001b[49m\u001b[43mprice\u001b[49m\u001b[43m)\u001b[49m\n\u001b[32m     13\u001b[39m \u001b[43m    \u001b[49m\u001b[43m)\u001b[49m\n\u001b[32m     15\u001b[39m conn.commit()\n\u001b[32m     16\u001b[39m cur.close()\n",
      "\u001b[31mInFailedSqlTransaction\u001b[39m: current transaction is aborted, commands ignored until end of transaction block\n"
     ]
    }
   ],
   "source": [
    "for _ in range(1000):\n",
    "    product_name = fake.word().capitalize()  # Simple product names\n",
    "    price = round(random.uniform(1.00, 1000.00), 2)  # Price between 1 and 1000\n",
    "    \n",
    "    cur.execute(\n",
    "        \"\"\"\n",
    "        INSERT INTO \"myEcommerceData\".products (product_name, price)\n",
    "        VALUES (%s, %s)\n",
    "        \"\"\",\n",
    "        (product_name, price)\n",
    "    )\n",
    "\n",
    "conn.commit()\n",
    "cur.close()\n",
    "print(\"Inserted 1000 random products successfully!\")"
   ]
  },
  {
   "cell_type": "code",
   "execution_count": 3,
   "id": "97c11ae7-6347-4c8b-8745-178421b3d617",
   "metadata": {},
   "outputs": [
    {
     "name": "stdout",
     "output_type": "stream",
     "text": [
      "Inserted 5000 random orders successfully!\n"
     ]
    }
   ],
   "source": [
    "# Fetch all customer IDs into a list once\n",
    "cur.execute('SELECT id FROM \"myEcommerceData\".customers;')\n",
    "customer_ids = [row[0] for row in cur.fetchall()]\n",
    "\n",
    "orders_to_insert = []\n",
    "\n",
    "for _ in range(5000):\n",
    "    customer_id = random.choice(customer_ids)\n",
    "    order_date = fake.date_time_between(start_date='-1y', end_date='now')\n",
    "    orders_to_insert.append((customer_id, order_date))\n",
    "\n",
    "# Insert all orders in one batch (using executemany)\n",
    "cur.executemany(\n",
    "    \"\"\"\n",
    "    INSERT INTO \"myEcommerceData\".orders (customer_id, order_date)\n",
    "    VALUES (%s, %s)\n",
    "    \"\"\",\n",
    "    orders_to_insert\n",
    ")\n",
    "\n",
    "conn.commit()\n",
    "cur.close()\n",
    "print(\"Inserted 5000 random orders successfully!\")"
   ]
  },
  {
   "cell_type": "code",
   "execution_count": 19,
   "id": "1e4d460e-6c93-415b-aece-bdcec68a63ec",
   "metadata": {},
   "outputs": [
    {
     "name": "stdout",
     "output_type": "stream",
     "text": [
      "Inserted 10000 order details successfully!\n"
     ]
    }
   ],
   "source": [
    "cur = conn.cursor()\n",
    "fake = Faker()\n",
    "order_details_to_insert = []\n",
    "\n",
    "cur.execute('SELECT id FROM \"myEcommerceData\".products;')\n",
    "valid_product_ids = {row[0] for row in cur.fetchall()}\n",
    "\n",
    "cur.execute('SELECT id FROM \"myEcommerceData\".orders;')\n",
    "valid_order_ids = {row[0] for row in cur.fetchall()}\n",
    "for _ in range(10000):\n",
    "    order_id = random.choice(list(valid_order_ids))\n",
    "    product_id = random.choice(list(valid_product_ids))\n",
    "    quantity = random.randint(1, 5)\n",
    "    order_details_to_insert.append((order_id, product_id, quantity))\n",
    "\n",
    "cur.executemany(\n",
    "    \"\"\"\n",
    "    INSERT INTO \"myEcommerceData\".order_details (order_id, product_id, quantity)\n",
    "    VALUES (%s, %s, %s)\n",
    "    \"\"\",\n",
    "    order_details_to_insert\n",
    ")\n",
    "conn.commit()\n",
    "cur.close()\n",
    "conn.close()\n",
    "print(\"Inserted 10000 order details successfully!\")"
   ]
  },
  {
   "cell_type": "code",
   "execution_count": null,
   "id": "e481b034-cb72-4924-aa70-3382014014b0",
   "metadata": {},
   "outputs": [],
   "source": []
  }
 ],
 "metadata": {
  "kernelspec": {
   "display_name": "Python 3 (ipykernel)",
   "language": "python",
   "name": "python3"
  },
  "language_info": {
   "codemirror_mode": {
    "name": "ipython",
    "version": 3
   },
   "file_extension": ".py",
   "mimetype": "text/x-python",
   "name": "python",
   "nbconvert_exporter": "python",
   "pygments_lexer": "ipython3",
   "version": "3.12.4"
  }
 },
 "nbformat": 4,
 "nbformat_minor": 5
}
